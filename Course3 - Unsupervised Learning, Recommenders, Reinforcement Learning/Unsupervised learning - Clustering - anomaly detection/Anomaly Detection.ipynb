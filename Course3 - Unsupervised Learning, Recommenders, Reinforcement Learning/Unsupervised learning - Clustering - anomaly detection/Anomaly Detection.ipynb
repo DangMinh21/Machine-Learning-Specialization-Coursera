{
 "cells": [
  {
   "cell_type": "markdown",
   "id": "b8706ac9",
   "metadata": {},
   "source": [
    "# Pratice - Anomaly Detection"
   ]
  },
  {
   "cell_type": "markdown",
   "id": "af680d9c",
   "metadata": {},
   "source": [
    "# 1 - Packages and Utils"
   ]
  },
  {
   "cell_type": "code",
   "execution_count": 2,
   "id": "40e98049",
   "metadata": {},
   "outputs": [],
   "source": [
    "import numpy as np\n",
    "import matplotlib.pyplot as plt\n",
    "%matplotlib inline"
   ]
  },
  {
   "cell_type": "code",
   "execution_count": null,
   "id": "6597d217",
   "metadata": {},
   "outputs": [],
   "source": []
  },
  {
   "cell_type": "markdown",
   "id": "41fb4722",
   "metadata": {},
   "source": [
    "# 2 - Anomaly Detection"
   ]
  },
  {
   "cell_type": "markdown",
   "id": "35e32f81",
   "metadata": {},
   "source": [
    "## 2.1 - Problem statement"
   ]
  },
  {
   "cell_type": "markdown",
   "id": "13bf24f0",
   "metadata": {},
   "source": [
    "**Implement anomaly detection algorithm to detect anomalous behavier in server computers**"
   ]
  },
  {
   "cell_type": "markdown",
   "id": "d162cbe7",
   "metadata": {},
   "source": [
    "## 2.2 - Dataset"
   ]
  },
  {
   "cell_type": "code",
   "execution_count": 3,
   "id": "8c7f5e1a",
   "metadata": {},
   "outputs": [],
   "source": [
    "X_part1 = np.load('data/X_part1.npy')\n",
    "X_val_part1 = np.load('data/X_val_part1.npy')\n",
    "y_val_part1 = np.load('data/y_val_part1.npy')"
   ]
  },
  {
   "cell_type": "code",
   "execution_count": 4,
   "id": "c2880a35",
   "metadata": {},
   "outputs": [
    {
     "data": {
      "text/plain": [
       "array([[13.04681517, 14.74115241],\n",
       "       [13.40852019, 13.7632696 ],\n",
       "       [14.19591481, 15.85318113],\n",
       "       [14.91470077, 16.17425987],\n",
       "       [13.57669961, 14.04284944]])"
      ]
     },
     "execution_count": 4,
     "metadata": {},
     "output_type": "execute_result"
    }
   ],
   "source": [
    "X_part1[:5]"
   ]
  },
  {
   "cell_type": "code",
   "execution_count": 5,
   "id": "5ccad40f",
   "metadata": {},
   "outputs": [
    {
     "data": {
      "text/plain": [
       "array([0, 0, 0, 0, 0], dtype=uint8)"
      ]
     },
     "execution_count": 5,
     "metadata": {},
     "output_type": "execute_result"
    }
   ],
   "source": [
    "y_val_part1[:5]"
   ]
  },
  {
   "cell_type": "code",
   "execution_count": 6,
   "id": "cbeb9b1d",
   "metadata": {},
   "outputs": [
    {
     "name": "stdout",
     "output_type": "stream",
     "text": [
      "number of anomalous behavier: 9\n"
     ]
    }
   ],
   "source": [
    "print(f'number of anomalous behavier: {y_val_part1.sum()}')"
   ]
  },
  {
   "cell_type": "code",
   "execution_count": 7,
   "id": "606aed34",
   "metadata": {},
   "outputs": [
    {
     "name": "stdout",
     "output_type": "stream",
     "text": [
      "shape X_part1: (307, 2)\n",
      "shape X_val_part1: (307, 2)\n",
      "shape y_val_part1: (307,)\n"
     ]
    }
   ],
   "source": [
    "print(f'shape X_part1: {X_part1.shape}')\n",
    "print(f'shape X_val_part1: {X_val_part1.shape}')\n",
    "print(f'shape y_val_part1: {y_val_part1.shape}')"
   ]
  },
  {
   "cell_type": "code",
   "execution_count": 8,
   "id": "858e341a",
   "metadata": {},
   "outputs": [
    {
     "data": {
      "image/png": "[encoded data removed]",
      "text/plain": [
       "<Figure size 800x400 with 2 Axes>"
      ]
     },
     "metadata": {},
     "output_type": "display_data"
    }
   ],
   "source": [
    "# visualize dataset\n",
    "fig, (ax1, ax2) = plt.subplots(1, 2, figsize=(8, 4))\n",
    "ax1.scatter(X_part1[:, 0], X_part1[:, 1], marker='.')\n",
    "ax2.scatter(X_val_part1[:, 0], X_val_part1[:, 1], marker='.', c=y_val_part1)\n",
    "plt.show()"
   ]
  },
  {
   "cell_type": "markdown",
   "id": "bc710367",
   "metadata": {},
   "source": [
    "## 2.3 - Gaussian Distribution"
   ]
  },
  {
   "cell_type": "code",
   "execution_count": 9,
   "id": "030a1b4c",
   "metadata": {},
   "outputs": [],
   "source": [
    "def estimate_gaussian(X):\n",
    "    mu = np.mean(X, axis=0)\n",
    "    sigma = np.std(X, axis=0)**2\n",
    "    return mu, sigma"
   ]
  },
  {
   "cell_type": "code",
   "execution_count": 10,
   "id": "2a1aa103",
   "metadata": {},
   "outputs": [
    {
     "name": "stdout",
     "output_type": "stream",
     "text": [
      "means: [14.11222578 14.99771051]\n",
      "variances: [1.83263141 1.70974533]\n"
     ]
    }
   ],
   "source": [
    "mu, sigma = estimate_gaussian(X_part1)\n",
    "print(f'means: {mu}')\n",
    "print(f'variances: {sigma}')"
   ]
  },
  {
   "cell_type": "code",
   "execution_count": 44,
   "id": "b5494093",
   "metadata": {},
   "outputs": [],
   "source": [
    "def model(X, mu, sigma):\n",
    "    n_feature = X.shape[1]\n",
    "    prob_feature = (1/np.square(2 * np.pi * sigma)) * np.exp(-(X-mu)**2/(2 * sigma))\n",
    "    prob = np.prod(prob_feature, axis=1)\n",
    "    return prob"
   ]
  },
  {
   "cell_type": "code",
   "execution_count": 45,
   "id": "5fded28d",
   "metadata": {},
   "outputs": [],
   "source": [
    "def multivariate_gaussian(X, mu, var):\n",
    "    \"\"\"\n",
    "    Computes the probability \n",
    "    density function of the examples X under the multivariate gaussian \n",
    "    distribution with parameters mu and var. If var is a matrix, it is\n",
    "    treated as the covariance matrix. If var is a vector, it is treated\n",
    "    as the var values of the variances in each dimension (a diagonal\n",
    "    covariance matrix\n",
    "    \"\"\"\n",
    "    \n",
    "    k = len(mu)\n",
    "    \n",
    "    if var.ndim == 1:\n",
    "        var = np.diag(var)\n",
    "        \n",
    "    X = X - mu\n",
    "    p = (2* np.pi)**(-k/2) * np.linalg.det(var)**(-0.5) * \\\n",
    "        np.exp(-0.5 * np.sum(np.matmul(X, np.linalg.pinv(var)) * X, axis=1))\n",
    "    \n",
    "    return p"
   ]
  },
  {
   "cell_type": "code",
   "execution_count": 46,
   "id": "e3be76f1",
   "metadata": {},
   "outputs": [
    {
     "name": "stdout",
     "output_type": "stream",
     "text": [
      "p_value: [4.70338419e-05 3.65640716e-05 5.26612336e-05 3.65724852e-05\n",
      " 4.62900324e-05]\n"
     ]
    }
   ],
   "source": [
    "p = model(X_part1, mu, sigma)\n",
    "print(f'p_value: {p[:5]}')"
   ]
  },
  {
   "cell_type": "code",
   "execution_count": 47,
   "id": "81c53130",
   "metadata": {},
   "outputs": [
    {
     "data": {
      "text/plain": [
       "array([0.06470829, 0.05030417, 0.07245035, 0.05031575, 0.06368497])"
      ]
     },
     "execution_count": 47,
     "metadata": {},
     "output_type": "execute_result"
    }
   ],
   "source": [
    "p_test = multivariate_gaussian(X_part1, mu, sigma)\n",
    "p_test[:5]"
   ]
  },
  {
   "cell_type": "code",
   "execution_count": 13,
   "id": "6d658646",
   "metadata": {},
   "outputs": [
    {
     "data": {
      "text/plain": [
       "1"
      ]
     },
     "execution_count": 13,
     "metadata": {},
     "output_type": "execute_result"
    }
   ],
   "source": [
    "esilon_min, esilon_max = np.min(p), np.max(p)\n",
    "esilon_space = np.linspace(esilon_min, esilon_max, 1000)\n",
    "predict = (p <= esilon_space[100])\n",
    "np.sum((predict == 1) & (y_val_part1 == 1))\n",
    "np.sum(predict & y_val_part1)\n",
    "np.sum((predict == 1) & (y_val_part1 == 0))\n",
    "np.sum((predict == 0) & (y_val_part1 == 1))"
   ]
  },
  {
   "cell_type": "code",
   "execution_count": 21,
   "id": "0d4988ed",
   "metadata": {},
   "outputs": [],
   "source": [
    "# choose esilon\n",
    "def find_esilon(prob, y_val_part1, num_of_esilon_space=1000):\n",
    "    \n",
    "    esilon_min, esilon_max = np.min(prob), np.max(prob)\n",
    "    \n",
    "    esilon_space = np.linspace(esilon_min, esilon_max, num_of_esilon_space)\n",
    "    print(len(esilon_space))\n",
    "    \n",
    "    best_f1 = 0\n",
    "    epsilon = 0\n",
    "    \n",
    "    for i in reversed(range(num_of_esilon_space)):\n",
    "        \n",
    "        predict = prob < esilon_space[i]\n",
    "    \n",
    "        tp = np.sum((predict == 1) & (y_val_part1 == 1))\n",
    "        fp = np.sum((predict == 1) & (y_val_part1 == 0))\n",
    "        fn = np.sum((predict == 0) & (y_val_part1 == 1))\n",
    "\n",
    "        precision = tp/(tp + fp)\n",
    "        recall = tp/(tp + fn)\n",
    "        f1 = (2*precision*recall)/(precision + recall)\n",
    "        if f1 > best_f1:\n",
    "            esilon = esilon_space[i]\n",
    "            best_f1 = f1\n",
    "            \n",
    "    return esilon, best_f1"
   ]
  },
  {
   "cell_type": "code",
   "execution_count": 48,
   "id": "351c41f0",
   "metadata": {},
   "outputs": [
    {
     "name": "stdout",
     "output_type": "stream",
     "text": [
      "1000\n",
      "Esilon: 0.0026085761503407963\n",
      "best f1: 0.8\n"
     ]
    },
    {
     "name": "stderr",
     "output_type": "stream",
     "text": [
      "C:\\Users\\DELL\\AppData\\Local\\Temp\\ipykernel_8816\\3790908305.py:20: RuntimeWarning: invalid value encountered in long_scalars\n",
      "  precision = tp/(tp + fp)\n"
     ]
    }
   ],
   "source": [
    "esilon, best_f1 = find_esilon(p_test, y_val_part1)\n",
    "print(f'Esilon: {esilon}')\n",
    "print(f'best f1: {best_f1}')"
   ]
  },
  {
   "cell_type": "markdown",
   "id": "4c19e08b",
   "metadata": {},
   "source": [
    "## 2.4 - High dimentional dataset"
   ]
  },
  {
   "cell_type": "code",
   "execution_count": null,
   "id": "f3e5eaa1",
   "metadata": {},
   "outputs": [],
   "source": []
  }
 ],
 "metadata": {
  "kernelspec": {
   "display_name": "Python 3 (ipykernel)",
   "language": "python",
   "name": "python3"
  },
  "language_info": {
   "codemirror_mode": {
    "name": "ipython",
    "version": 3
   },
   "file_extension": ".py",
   "mimetype": "text/x-python",
   "name": "python",
   "nbconvert_exporter": "python",
   "pygments_lexer": "ipython3",
   "version": "3.10.7"
  }
 },
 "nbformat": 4,
 "nbformat_minor": 5
}
