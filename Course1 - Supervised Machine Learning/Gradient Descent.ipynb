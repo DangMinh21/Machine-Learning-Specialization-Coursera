{
 "cells": [
  {
   "cell_type": "markdown",
   "id": "e9c39e7c",
   "metadata": {},
   "source": [
    "# 1 - packages and set up"
   ]
  },
  {
   "cell_type": "code",
   "execution_count": 2,
   "id": "4f1c0300",
   "metadata": {},
   "outputs": [],
   "source": [
    "import math, copy\n",
    "import numpy as np\n",
    "import matplotlib.pyplot as plt\n",
    "from sklearn import datasets"
   ]
  },
  {
   "cell_type": "markdown",
   "id": "983bcb01",
   "metadata": {},
   "source": [
    "## Make dataset for linear regression"
   ]
  },
  {
   "cell_type": "code",
   "execution_count": 6,
   "id": "4eb80de9",
   "metadata": {},
   "outputs": [],
   "source": [
    "# def make_dataset_for_linear_regression(n_samples, n_features):\n",
    "    \n",
    "#     return X, y\n",
    "m = 100"
   ]
  },
  {
   "cell_type": "code",
   "execution_count": 7,
   "id": "64c0bf3f",
   "metadata": {},
   "outputs": [
    {
     "name": "stdout",
     "output_type": "stream",
     "text": [
      "X: [[ 0.30399528]\n",
      " [ 0.51882369]\n",
      " [ 1.92611723]\n",
      " [-1.53293584]\n",
      " [ 0.43023286]\n",
      " [ 0.39840438]\n",
      " [ 1.4984663 ]\n",
      " [ 0.25071734]\n",
      " [-0.6900408 ]\n",
      " [-0.10837705]\n",
      " [-0.01309413]\n",
      " [-1.39412721]\n",
      " [ 0.52082926]\n",
      " [-0.84360173]\n",
      " [ 0.82371538]\n",
      " [ 1.48562465]\n",
      " [-0.47430903]\n",
      " [-0.07982877]\n",
      " [-0.7308842 ]\n",
      " [ 1.02120264]\n",
      " [-0.29422144]\n",
      " [-0.12219938]\n",
      " [ 0.06212988]\n",
      " [ 0.97268931]\n",
      " [-0.06417931]\n",
      " [-0.42100319]\n",
      " [ 0.80090049]\n",
      " [ 0.83247588]\n",
      " [-0.23366035]\n",
      " [ 2.25231349]\n",
      " [ 0.13235905]\n",
      " [ 0.5250514 ]\n",
      " [-0.67374404]\n",
      " [ 1.15917601]\n",
      " [-0.69349582]\n",
      " [ 0.76714073]\n",
      " [ 1.21683969]\n",
      " [ 0.46492654]\n",
      " [-1.64972401]\n",
      " [ 0.37793672]\n",
      " [-0.51820029]\n",
      " [-0.00546501]\n",
      " [-1.38943074]\n",
      " [ 1.8489023 ]\n",
      " [ 1.21022211]\n",
      " [-0.72088068]\n",
      " [ 0.2935177 ]\n",
      " [ 0.01948768]\n",
      " [-1.2036092 ]\n",
      " [ 0.47422841]\n",
      " [ 0.68769021]\n",
      " [-0.39739312]\n",
      " [-0.09975343]\n",
      " [-0.76335575]\n",
      " [ 0.9776869 ]\n",
      " [-1.03698719]\n",
      " [ 0.45001125]\n",
      " [-2.29779715]\n",
      " [ 1.90053477]\n",
      " [ 0.97469891]\n",
      " [-1.14129709]\n",
      " [-1.28375992]\n",
      " [-1.88171172]\n",
      " [-0.14896498]\n",
      " [-0.27845335]\n",
      " [-2.73004983]\n",
      " [ 0.04718907]\n",
      " [-0.79207738]\n",
      " [-0.2387644 ]\n",
      " [-1.47338523]\n",
      " [-0.48167476]\n",
      " [ 2.37180268]\n",
      " [ 1.25415978]\n",
      " [ 0.8630521 ]\n",
      " [ 0.45994616]\n",
      " [-0.36278749]\n",
      " [ 1.09485623]\n",
      " [-0.24134304]\n",
      " [-1.18106025]\n",
      " [ 1.17283229]\n",
      " [-0.15602105]\n",
      " [-0.75144924]\n",
      " [ 0.83924372]\n",
      " [-0.96556195]\n",
      " [-1.28402538]\n",
      " [-0.88797362]\n",
      " [-0.12225092]\n",
      " [ 2.37036821]\n",
      " [-1.16612464]\n",
      " [-1.48041348]\n",
      " [ 0.263861  ]\n",
      " [-1.37421112]\n",
      " [ 1.39117239]\n",
      " [-1.18869001]\n",
      " [-1.06698596]\n",
      " [ 1.11906873]\n",
      " [ 0.72931137]\n",
      " [-0.79691842]\n",
      " [ 0.99858231]\n",
      " [-0.5212755 ]]\n",
      "y: [  40.81466615   39.62098454  157.81855203 -121.30259769   26.57033837\n",
      "   31.46361234  117.44914689   10.74109598  -61.56594496   16.9943247\n",
      "  -11.63728573 -121.82129144   40.00599698  -65.59362487   86.23315619\n",
      "  140.4625372   -48.32238162   -8.49893107  -47.53657239   83.09366497\n",
      "  -28.75252078   -3.47666504   23.62369574   86.90179439   -2.16380323\n",
      "  -48.46512049   77.66010058   53.11984017  -25.84893335  182.65270261\n",
      "   12.42453255   43.09092921  -35.01153901  110.40620286  -54.16425256\n",
      "   75.31259058  103.25531372   47.85177249 -155.1394478    35.55369036\n",
      "  -56.52363162    4.27021963 -119.72173104  130.65213709   90.84423895\n",
      "  -52.72660078   28.6118374    -2.96698351  -93.71325851   45.07895932\n",
      "   64.39444064  -37.33966713   -9.14708025  -71.55896818   78.10968415\n",
      " -106.79669476   28.84014581 -187.94024497  145.77077774   95.17431204\n",
      "  -97.80568929 -117.08584446 -169.63554097   -1.90522669  -33.39439152\n",
      " -220.87490366   -3.22179863  -59.78113122  -35.09672891 -121.3517317\n",
      "  -60.75384316  185.6443006   103.85680611   73.05039903   21.9193047\n",
      "  -46.22736852   92.14222469  -23.23785313  -89.21020588   92.15050585\n",
      "  -28.46066755  -54.11384993   49.2854538   -75.27550166 -107.08349962\n",
      "  -51.30048547    2.91458195  186.54110468  -91.22484209 -112.57277822\n",
      "   23.60737681 -112.80945502   96.25290287  -98.92705741  -85.90170369\n",
      "  100.51061036   72.19119857  -71.49761371   71.07627475  -54.5028081 ]\n"
     ]
    }
   ],
   "source": [
    "X, y = datasets.make_regression(n_samples=100, n_features=1, noise=10)\n",
    "print(f'X: {X}')\n",
    "print(f'y: {y}')"
   ]
  },
  {
   "cell_type": "code",
   "execution_count": 8,
   "id": "908fe600",
   "metadata": {},
   "outputs": [
    {
     "data": {
      "text/plain": [
       "<matplotlib.collections.PathCollection at 0x1cdea555120>"
      ]
     },
     "execution_count": 8,
     "metadata": {},
     "output_type": "execute_result"
    },
    {
     "data": {
      "image/png": "[encoded data removed]",
      "text/plain": [
       "<Figure size 640x480 with 1 Axes>"
      ]
     },
     "metadata": {},
     "output_type": "display_data"
    }
   ],
   "source": [
    "plt.scatter(X, y)"
   ]
  },
  {
   "cell_type": "markdown",
   "id": "3a40b7f5",
   "metadata": {},
   "source": [
    "# 2 - Compute Cost"
   ]
  },
  {
   "cell_type": "code",
   "execution_count": 9,
   "id": "29e40814",
   "metadata": {},
   "outputs": [],
   "source": [
    "def compute_cost(x, y, w, b):\n",
    "    \n",
    "    n_samples = x.shape[0]\n",
    "    cost = 0\n",
    "    \n",
    "    for sample in range(n_samples):\n",
    "        f_wb = w * x[sample] + b\n",
    "        cost = cost + (y[sample] - f_wb)**2\n",
    "    cost = 1/n_samples * cost\n",
    "    return cost"
   ]
  },
  {
   "cell_type": "code",
   "execution_count": 10,
   "id": "7897fe46",
   "metadata": {},
   "outputs": [
    {
     "name": "stdout",
     "output_type": "stream",
     "text": [
      "[5800.05396758]\n"
     ]
    }
   ],
   "source": [
    "cost =  compute_cost(X, y, 10, 5)\n",
    "print(cost)"
   ]
  },
  {
   "cell_type": "markdown",
   "id": "54e4fbcd",
   "metadata": {},
   "source": [
    "# 3 - Compute Gradient"
   ]
  },
  {
   "cell_type": "code",
   "execution_count": 11,
   "id": "b52ed0de",
   "metadata": {},
   "outputs": [],
   "source": [
    "def compute_gradient(x, y, w, b):\n",
    "    \n",
    "    n_samples = x.shape[0]\n",
    "    dw, db = 0, 0\n",
    "    \n",
    "    for sample in range(n_samples):\n",
    "        dw += ((w*x[sample] + b) - y[sample]) * x[sample]\n",
    "        db += (w*x[sample] + b) - y[sample]\n",
    "    dw = dw/n_samples\n",
    "    db = db/n_samples\n",
    "    return dw, db"
   ]
  },
  {
   "cell_type": "code",
   "execution_count": 12,
   "id": "92244912",
   "metadata": {},
   "outputs": [
    {
     "name": "stdout",
     "output_type": "stream",
     "text": [
      "dw: [19.41621754]\n",
      "db: [5.85473747]\n"
     ]
    }
   ],
   "source": [
    "dw, db = compute_gradient(X, y, 100, 5)\n",
    "print(f'dw: {dw}')\n",
    "print(f'db: {db}')"
   ]
  },
  {
   "cell_type": "markdown",
   "id": "df6c8a57",
   "metadata": {},
   "source": [
    "# 4 - Gradient Descent"
   ]
  },
  {
   "cell_type": "code",
   "execution_count": 13,
   "id": "6aec0e4b",
   "metadata": {},
   "outputs": [],
   "source": [
    "def gradient_descent(x, y, w_in, b_in, alpha, num_iters, cost_function, gradient_function):\n",
    "    \n",
    "    j_his = []\n",
    "    p_his = []\n",
    "    w = w_in\n",
    "    b = b_in\n",
    "    \n",
    "    for i in range(num_iters):\n",
    "        dw, db = gradient_function(x, y, w, b)\n",
    "        \n",
    "        w = w - alpha * dw\n",
    "        b = b - alpha * db\n",
    "        \n",
    "        if i<100000:      # prevent resource exhaustion \n",
    "            j_his.append(cost_function(x, y, w, b))\n",
    "            p_his.append([w,b])\n",
    "        # Print cost every at intervals 10 times or as many iterations if < 10\n",
    "        if i%1000 == 0:\n",
    "            print(f\"Iteration {i}: Cost {j_his[-1]} \",\n",
    "                  f\"dj_dw: {dw}, dj_db: {db}  \",\n",
    "                  f\"w: {w}, b:{b}\")\n",
    "    \n",
    "    return w, b, j_his, p_his"
   ]
  },
  {
   "cell_type": "code",
   "execution_count": 14,
   "id": "b3c75a41",
   "metadata": {
    "scrolled": true
   },
   "outputs": [
    {
     "name": "stdout",
     "output_type": "stream",
     "text": [
      "Iteration 0: Cost [7078.87756994]  dj_dw: [-87.1023558], dj_db: [1.75187184]   w: [2.08710236], b:[0.99824813]\n",
      "Iteration 1000: Cost [902.19866815]  dj_dw: [-29.36002687], dj_db: [0.6763861]   w: [55.15706805], b:[-0.13192759]\n",
      "Iteration 2000: Cost [200.31024149]  dj_dw: [-9.89656293], dj_db: [0.2595683]   w: [73.04565015], b:[-0.56712574]\n",
      "Iteration 3000: Cost [120.54781766]  dj_dw: [-3.33590638], dj_db: [0.09910415]   w: [79.07547192], b:[-0.7337655]\n",
      "Iteration 4000: Cost [111.4832088]  dj_dw: [-1.1244625], dj_db: [0.03767455]   w: [81.1079909], b:[-0.79726943]\n",
      "Iteration 5000: Cost [110.45300266]  dj_dw: [-0.37903377], dj_db: [0.01426885]   w: [81.79311062], b:[-0.82137164]\n",
      "Iteration 6000: Cost [110.33591042]  dj_dw: [-0.12776527], dj_db: [0.00538685]   w: [82.02405117], b:[-0.83048743]\n",
      "Iteration 7000: Cost [110.32260077]  dj_dw: [-0.04306752], dj_db: [0.002028]   w: [82.10189711], b:[-0.83392472]\n",
      "Iteration 8000: Cost [110.32108774]  dj_dw: [-0.01451741], dj_db: [0.00076162]   w: [82.12813772], b:[-0.83521741]\n",
      "Iteration 9000: Cost [110.32091573]  dj_dw: [-0.00489363], dj_db: [0.00028542]   w: [82.13698306], b:[-0.83570243]\n",
      "(w,b) found by gradient descent: ([82.13996306],[-0.83588394])\n"
     ]
    }
   ],
   "source": [
    "w_init = 2\n",
    "b_init = 1\n",
    "iters = 10000\n",
    "alpha = 1.0e-3\n",
    "w_final, b_final, J_hist, p_hist = gradient_descent(X ,y, w_init, b_init, alpha, \n",
    "                                                    iters, compute_cost, compute_gradient)\n",
    "print(f\"(w,b) found by gradient descent: ({w_final},{b_final})\")"
   ]
  },
  {
   "cell_type": "code",
   "execution_count": 15,
   "id": "e0bb0773",
   "metadata": {},
   "outputs": [
    {
     "data": {
      "text/plain": [
       "[<matplotlib.lines.Line2D at 0x1cdea856fe0>]"
      ]
     },
     "execution_count": 15,
     "metadata": {},
     "output_type": "execute_result"
    },
    {
     "data": {
      "image/png": "[encoded data removed]",
      "text/plain": [
       "<Figure size 640x480 with 1 Axes>"
      ]
     },
     "metadata": {},
     "output_type": "display_data"
    }
   ],
   "source": [
    "plt.scatter(X, y)\n",
    "\n",
    "x_plot = [-2, 3]\n",
    "\n",
    "predict1 = w_init * x_plot[0] + b_init\n",
    "predict2 = w_init * x_plot[1] + b_init\n",
    "predictions_plot = [predict1, predict2]\n",
    "plt.plot(x_plot, predictions_plot)\n",
    "\n",
    "predict3 = p_hist[-1][0] * x_plot[0] + p_hist[-1][1]\n",
    "predict4 = p_hist[-1][0] * x_plot[1] + p_hist[-1][1]\n",
    "predictions_plot = [predict3, predict4]\n",
    "\n",
    "plt.plot(x_plot, predictions_plot)"
   ]
  },
  {
   "cell_type": "code",
   "execution_count": null,
   "id": "1c3c1ec7",
   "metadata": {},
   "outputs": [],
   "source": []
  }
 ],
 "metadata": {
  "kernelspec": {
   "display_name": "Python 3 (ipykernel)",
   "language": "python",
   "name": "python3"
  },
  "language_info": {
   "codemirror_mode": {
    "name": "ipython",
    "version": 3
   },
   "file_extension": ".py",
   "mimetype": "text/x-python",
   "name": "python",
   "nbconvert_exporter": "python",
   "pygments_lexer": "ipython3",
   "version": "3.10.4"
  }
 },
 "nbformat": 4,
 "nbformat_minor": 5
}
