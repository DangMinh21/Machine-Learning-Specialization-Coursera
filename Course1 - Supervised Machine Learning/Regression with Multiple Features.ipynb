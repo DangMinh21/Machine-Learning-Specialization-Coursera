{
 "cells": [
  {
   "cell_type": "markdown",
   "id": "d02ed4a2",
   "metadata": {},
   "source": [
    "# Numpy and Vectorization"
   ]
  },
  {
   "cell_type": "code",
   "execution_count": 1,
   "id": "71249d90",
   "metadata": {},
   "outputs": [],
   "source": [
    "import numpy as np\n",
    "import time"
   ]
  },
  {
   "cell_type": "code",
   "execution_count": 13,
   "id": "4a28b5cd",
   "metadata": {},
   "outputs": [
    {
     "name": "stdout",
     "output_type": "stream",
     "text": [
      "np.zeros(4) :   a = [0. 0. 0. 0.], a shape = (4,), a data type = float64\n",
      "np.zeros(4) :   a = [0. 0. 0. 0.], a shape = (4,), a data type = float64\n",
      "np.zeros(4) :   a = [0.54628609 0.38933264 0.61857642 0.30871313], a shape = (4,), a data type = float64\n"
     ]
    }
   ],
   "source": [
    "a = np.zeros(4)\n",
    "print(f\"np.zeros(4) :   a = {a}, a shape = {a.shape}, a data type = {a.dtype}\")\n",
    "a = np.zeros((4,))\n",
    "print(f\"np.zeros(4) :   a = {a}, a shape = {a.shape}, a data type = {a.dtype}\")\n",
    "a = np.random.random_sample(4)\n",
    "print(f\"np.zeros(4) :   a = {a}, a shape = {a.shape}, a data type = {a.dtype}\")"
   ]
  },
  {
   "cell_type": "code",
   "execution_count": 19,
   "id": "64cb9b29",
   "metadata": {},
   "outputs": [],
   "source": [
    "def dot_with_loop(a, b):\n",
    "    dot_product = 0\n",
    "    for i in range(len(a)):\n",
    "        dot_product += a[i] * b[i]\n",
    "    return dot_product"
   ]
  },
  {
   "cell_type": "code",
   "execution_count": 20,
   "id": "fd024123",
   "metadata": {},
   "outputs": [
    {
     "name": "stdout",
     "output_type": "stream",
     "text": [
      "2501072.58168132\n",
      "Time with vectorization: 0.015624284744262695\n",
      "2501072.5816813707\n",
      "time with vectorization: 3.2247209548950195\n"
     ]
    }
   ],
   "source": [
    "np.random.seed(1)\n",
    "a = np.random.rand(10000000)\n",
    "b = np.random.rand(10000000)\n",
    "\n",
    "tic = time.time()\n",
    "c = np.dot(a, b)\n",
    "toc = time.time()\n",
    "print(c)\n",
    "print(f'Time with vectorization: {toc-tic}')\n",
    "\n",
    "tic = time.time()\n",
    "c = dot_with_loop(a, b)\n",
    "toc = time.time()\n",
    "print(c)\n",
    "print(f'time with vectorization: {toc-tic}')"
   ]
  },
  {
   "cell_type": "code",
   "execution_count": 21,
   "id": "75fa954d",
   "metadata": {},
   "outputs": [],
   "source": [
    "# whats vector, matric?\n",
    "# slicing, indexing, operators, ..."
   ]
  },
  {
   "cell_type": "markdown",
   "id": "022ed056",
   "metadata": {},
   "source": [
    "# Multiple Variable Linear Regression"
   ]
  },
  {
   "cell_type": "code",
   "execution_count": 24,
   "id": "dce0fa97",
   "metadata": {},
   "outputs": [],
   "source": [
    "# import packages\n",
    "import math\n",
    "import numpy as np\n",
    "import matplotlib.pyplot as plt\n",
    "from sklearn import datasets\n",
    "plt.style.use('./deeplearning.mplstyle')\n",
    "np.set_printoptions(precision=2)"
   ]
  },
  {
   "cell_type": "code",
   "execution_count": 50,
   "id": "5011b5da",
   "metadata": {},
   "outputs": [
    {
     "name": "stdout",
     "output_type": "stream",
     "text": [
      "X: [[ 1.2  -0.19 -1.06]\n",
      " [-0.32  0.91  0.76]\n",
      " [-0.4  -1.89  0.9 ]\n",
      " [-0.69 -0.73  1.97]\n",
      " [-0.86 -0.8  -0.54]\n",
      " [-0.1  -0.13  0.05]\n",
      " [-2.38  0.31 -1.68]\n",
      " [-0.2   0.75 -0.34]\n",
      " [-1.31  0.44 -0.39]\n",
      " [-0.92 -1.26  0.52]\n",
      " [-1.1   0.42 -0.36]\n",
      " [ 1.25  0.32 -0.16]\n",
      " [ 1.31  1.21  1.78]\n",
      " [-0.26  0.5  -0.  ]\n",
      " [-0.54  0.6   0.48]\n",
      " [ 2.26  0.4   1.48]\n",
      " [-1.56 -0.25  0.34]\n",
      " [-0.02  0.9   0.02]\n",
      " [-0.88 -0.03 -0.28]\n",
      " [ 0.02 -0.44 -0.76]\n",
      " [ 0.63  1.13  0.57]\n",
      " [ 0.38  0.94  0.57]\n",
      " [ 0.63 -1.1  -0.22]\n",
      " [-0.88 -0.13  0.32]\n",
      " [ 0.71 -1.05 -0.13]\n",
      " [-0.78  0.02 -0.38]\n",
      " [-1.23 -1.4  -2.3 ]\n",
      " [ 0.3   1.18 -0.48]\n",
      " [-1.08  0.41 -0.16]\n",
      " [ 1.02 -1.45  2.12]\n",
      " [ 0.14 -1.38 -1.33]\n",
      " [-0.21  0.95  0.11]\n",
      " [ 0.43 -0.45 -2.06]\n",
      " [ 0.74 -0.58 -0.34]\n",
      " [ 1.1  -0.43  1.51]\n",
      " [-1.46  0.51 -0.1 ]\n",
      " [-0.72 -0.08 -0.03]\n",
      " [ 0.06  0.13  1.92]\n",
      " [-0.02  0.99 -1.05]\n",
      " [ 0.16 -0.65 -0.29]\n",
      " [-0.04 -0.79 -1.38]\n",
      " [-2.65 -0.4   0.83]\n",
      " [-0.83 -0.66  0.44]\n",
      " [ 0.3  -0.24  0.19]\n",
      " [-1.36  0.82  0.61]\n",
      " [ 1.08 -0.62 -0.05]\n",
      " [ 2.72 -0.51 -0.63]\n",
      " [-0.24 -0.78 -0.11]\n",
      " [ 0.61 -1.03  0.26]\n",
      " [-2.03  0.69  1.  ]\n",
      " [-1.83  0.3  -1.25]\n",
      " [ 1.99  1.43  0.61]\n",
      " [-1.28  1.35 -0.47]\n",
      " [-1.75 -1.65 -0.43]\n",
      " [-1.45 -1.01  0.04]\n",
      " [-0.04 -0.21 -0.02]\n",
      " [ 0.61  0.37  1.12]\n",
      " [-0.49  0.17 -0.02]\n",
      " [-0.18 -0.2  -0.84]\n",
      " [ 0.07 -0.38 -0.22]\n",
      " [-0.05  1.17  0.36]\n",
      " [-1.88 -0.81  0.57]\n",
      " [-0.6   0.34 -0.84]\n",
      " [-1.42 -0.29 -0.22]\n",
      " [-2.2   0.06  0.22]\n",
      " [ 0.28 -0.25 -1.15]\n",
      " [ 0.44  0.54  0.01]\n",
      " [-0.71 -1.08  0.18]\n",
      " [ 0.41  0.48 -0.44]\n",
      " [-0.15 -0.92  0.34]\n",
      " [-1.08  0.4   0.38]\n",
      " [-0.45  0.27 -1.6 ]\n",
      " [-0.91  0.75  1.33]\n",
      " [ 0.24 -0.26  0.15]\n",
      " [ 1.12 -2.43 -2.48]\n",
      " [ 2.21 -0.07 -0.14]\n",
      " [-0.14  1.03  1.78]\n",
      " [ 1.53 -0.17 -2.3 ]\n",
      " [ 0.29  1.02  0.29]\n",
      " [ 0.17  1.41 -0.49]\n",
      " [-2.11 -0.28 -0.7 ]\n",
      " [ 0.85  2.1  -0.14]\n",
      " [-0.57 -0.42 -2.08]\n",
      " [-0.25 -0.4  -0.19]\n",
      " [ 0.19 -0.61 -0.15]\n",
      " [-0.23 -1.11  0.86]\n",
      " [ 0.6  -0.69 -1.9 ]\n",
      " [ 0.06  1.28  1.68]\n",
      " [ 1.5  -1.04 -1.57]\n",
      " [-1.6   0.12 -0.39]\n",
      " [-1.26 -0.89 -1.32]\n",
      " [-0.33  0.79 -0.96]\n",
      " [ 0.12 -0.86 -0.24]\n",
      " [ 0.15  1.13  0.02]\n",
      " [ 0.72  0.29  0.34]\n",
      " [-0.61 -0.96  0.09]\n",
      " [-0.09  0.47  0.8 ]\n",
      " [-0.19 -0.26  1.48]\n",
      " [ 1.08  0.39 -1.78]\n",
      " [-0.42  0.69 -1.28]]\n",
      "y: [ 101.61   33.63  -42.83  103.08   55.54    0.4  -138.16   48.08   36.16\n",
      "  -56.82  -22.83  -67.36  152.8    12.24  -74.84 -128.75  163.53  -18.81\n",
      "  131.91  -42.88  -70.84  -31.82  139.38   13.02   -4.33   69.61   93.4\n",
      "  106.01   -7.6    62.39  -82.13   29.55 -106.1    51.17   47.96  -80.62\n",
      "  -11.22   85.53    4.54   38.46  -23.05  -77.39 -117.85  -16.16   10.18\n",
      "  -89.4   -61.45  -46.89   48.01  106.41  -38.69  -61.86  -37.3  -168.7\n",
      "  136.43 -197.25   43.98 -102.33   -5.66   18.16   63.08  -31.66  139.09\n",
      "    9.39   34.75   15.11  -98.93   25.18  -85.74   40.32   16.05   34.96\n",
      "  107.05   88.62   42.28  -94.16   40.1    -6.58  -88.03   31.13    5.91\n",
      "   58.5   -77.69  -30.07  166.73  213.7    14.04  -55.06  141.56   36.22\n",
      " -115.44  -10.86   74.68   35.69   24.88  -39.48   62.36   49.15   37.8\n",
      "    1.65]\n"
     ]
    }
   ],
   "source": [
    "x, y = datasets.make_regression(n_samples=100, n_features=3, noise=10)\n",
    "print(f'X: {X}')\n",
    "print(f'y: {y}')"
   ]
  },
  {
   "cell_type": "code",
   "execution_count": 51,
   "id": "eb508f60",
   "metadata": {},
   "outputs": [
    {
     "data": {
      "text/plain": [
       "<matplotlib.collections.PathCollection at 0x2943c430cd0>"
      ]
     },
     "execution_count": 51,
     "metadata": {},
     "output_type": "execute_result"
    },
    {
     "data": {
      "image/png": "[encoded data removed]",
      "text/plain": [
       "<Figure size 640x480 with 1 Axes>"
      ]
     },
     "metadata": {},
     "output_type": "display_data"
    }
   ],
   "source": [
    "plt.scatter(x[:, 0], y, c='red')\n",
    "plt.scatter(x[:, 1], y, c='blue')\n",
    "plt.scatter(x[:, 2], y, c='green')"
   ]
  },
  {
   "cell_type": "code",
   "execution_count": 58,
   "id": "b8bfea68",
   "metadata": {},
   "outputs": [],
   "source": [
    "# initialize model\n",
    "w_init = np.array([-2., -3., -4])\n",
    "b_init = 1."
   ]
  },
  {
   "cell_type": "code",
   "execution_count": 63,
   "id": "4d7d0ec1",
   "metadata": {},
   "outputs": [],
   "source": [
    "# compute cost\n",
    "def compute_cost(x, y, w, b):\n",
    "    cost = 0\n",
    "    n_samples = x.shape[0]\n",
    "    for sample in range(n_samples):\n",
    "        f = np.dot(x[sample, :], w) + b\n",
    "        cost += (f-y[sample])**2\n",
    "    cost /= (2*n_samples)\n",
    "    return cost"
   ]
  },
  {
   "cell_type": "code",
   "execution_count": 64,
   "id": "8d5d7295",
   "metadata": {},
   "outputs": [
    {
     "name": "stdout",
     "output_type": "stream",
     "text": [
      "3574.782291848482\n"
     ]
    }
   ],
   "source": [
    "print(compute_cost(x, y, w_init, b_init))"
   ]
  },
  {
   "cell_type": "code",
   "execution_count": 74,
   "id": "b6be32ff",
   "metadata": {},
   "outputs": [],
   "source": [
    "# compute gradient\n",
    "def compute_gradient(x, y, w, b):\n",
    "    # retrieve \n",
    "    n_samples = x.shape[0]\n",
    "    n_parameters = x.shape[1]\n",
    "    # \n",
    "    dw = np.zeros(n_parameters)\n",
    "    db = 0.\n",
    "    \n",
    "    for sample in range(n_samples):\n",
    "        err = np.dot(w, x[sample, :]) + b - y[sample]\n",
    "        for parameter in range(n_parameters):\n",
    "            dw[parameter] += err * x[sample, parameter]\n",
    "        db += err\n",
    "    dw /= (2*n_samples)\n",
    "    db /= (2*n_samples)\n",
    "    \n",
    "    return dw, db"
   ]
  },
  {
   "cell_type": "code",
   "execution_count": 75,
   "id": "b96492d4",
   "metadata": {},
   "outputs": [
    {
     "name": "stdout",
     "output_type": "stream",
     "text": [
      "[-16.98 -25.33 -32.87]\n",
      "-3.7901195759349138\n"
     ]
    }
   ],
   "source": [
    "dw, db = compute_gradient(x, y, w_init, b_init)\n",
    "print(dw)\n",
    "print(db)"
   ]
  },
  {
   "cell_type": "code",
   "execution_count": 81,
   "id": "96ca37d1",
   "metadata": {},
   "outputs": [],
   "source": [
    "def gradient_descent(x, y, w, b, learning_rate, cost_function, gradient_function, iterations):\n",
    "    \n",
    "    n_parameters = x.shape[1]\n",
    "    \n",
    "    #loop over many iteration\n",
    "    for i in range(iterations):\n",
    "        #compute gradient\n",
    "        dw, db = compute_gradient(x, y, w, b)\n",
    "        #update parameter\n",
    "        w = w - learning_rate * dw\n",
    "        b = b - learning_rate * db\n",
    "        \n",
    "        if i % 1000 == 0:\n",
    "            print(f'cost at {i}th --> {cost_function(x, y, w, b)}')\n",
    "        \n",
    "    return w, b"
   ]
  },
  {
   "cell_type": "code",
   "execution_count": 82,
   "id": "a25ebff1",
   "metadata": {},
   "outputs": [
    {
     "name": "stdout",
     "output_type": "stream",
     "text": [
      "cost at 0th --> 3570.7335024271074\n",
      "cost at 1000th --> 1179.3597573293855\n",
      "cost at 2000th --> 419.7041526981803\n",
      "cost at 3000th --> 172.5961676205137\n",
      "cost at 4000th --> 90.66740119280168\n",
      "cost at 5000th --> 63.074838235169466\n",
      "cost at 6000th --> 53.654900999110204\n",
      "cost at 7000th --> 50.39790359448437\n",
      "cost at 8000th --> 49.25724069499858\n",
      "cost at 9000th --> 48.85221096803666\n",
      "cost at 10000th --> 48.706161735611985\n"
     ]
    }
   ],
   "source": [
    "learning_rate = 0.001\n",
    "iters = 10001\n",
    "w, b = gradient_descent(x, y, w_init, b_init, learning_rate, compute_cost, compute_gradient, iters)"
   ]
  },
  {
   "cell_type": "code",
   "execution_count": null,
   "id": "8f149b88",
   "metadata": {},
   "outputs": [],
   "source": []
  }
 ],
 "metadata": {
  "kernelspec": {
   "display_name": "Python 3 (ipykernel)",
   "language": "python",
   "name": "python3"
  },
  "language_info": {
   "codemirror_mode": {
    "name": "ipython",
    "version": 3
   },
   "file_extension": ".py",
   "mimetype": "text/x-python",
   "name": "python",
   "nbconvert_exporter": "python",
   "pygments_lexer": "ipython3",
   "version": "3.10.4"
  }
 },
 "nbformat": 4,
 "nbformat_minor": 5
}
